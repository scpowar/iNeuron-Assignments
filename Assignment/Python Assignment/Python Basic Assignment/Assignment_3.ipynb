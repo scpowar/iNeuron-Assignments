{
 "cells": [
  {
   "cell_type": "markdown",
   "id": "00feabd9",
   "metadata": {},
   "source": [
    "<h3><p>1. Why are functions advantageous to have in your programs?</p></h3>\n",
    "<p><i><b>Ans.</i></b></p>\n",
    "Functions enables reusability of the code. For eg. if we write a code to check wheter a no. is even or odd and in our code if we need to check this condition multiple times we need not wewrite the entire logic again and again, we just need to call the function."
   ]
  },
  {
   "cell_type": "markdown",
   "id": "1d20a20a",
   "metadata": {},
   "source": [
    "<h3><p>2. When does the code in a function run: when it's specified or when it's called?</p></h3>\n",
    "<p><i><b>Ans.</i></b></p>\n",
    "The code in a function runs when the function is called."
   ]
  },
  {
   "cell_type": "markdown",
   "id": "96f89636",
   "metadata": {},
   "source": [
    "<h3><p>3. What statement creates a function?</p></h3>\n",
    "<p><i><b>Ans.</i></b></p>\n",
    "<pre>\n",
    "def name_of_the_function(parameters):\n",
    "    [logic...]\n",
    "</pre>"
   ]
  },
  {
   "cell_type": "markdown",
   "id": "e1a2754d",
   "metadata": {},
   "source": [
    "<h3><p>4. What is the difference between a function and a function call?</p></h3>\n",
    "<p><i><b>Ans.</i></b></p>\n",
    "A function is a set of code where the logic of the function is defined whereas with function call, the defined function is executed"
   ]
  },
  {
   "cell_type": "markdown",
   "id": "81787775",
   "metadata": {},
   "source": [
    "<h3><p>5. How many global scopes are there in a Python program? How many local scopes?</p></h3>\n",
    "<p><i><b>Ans.</i></b></p>\n",
    "There is only one global scope in Python and multiple local scopes. eg. local variables in function, their scope is as many times the function is called."
   ]
  },
  {
   "cell_type": "markdown",
   "id": "473e80e2",
   "metadata": {},
   "source": [
    "<h3><p>6. What happens to variables in a local scope when the function call returns?</p></h3>\n",
    "<p><i><b>Ans.</i></b></p>\n",
    "In a local scope when the function call returns, the scope is destroyed and variables are forgotten"
   ]
  },
  {
   "cell_type": "markdown",
   "id": "0d9eeb08",
   "metadata": {},
   "source": [
    "<h3><p>7. What is the concept of a return value? Is it possible to have a return value in an expression?</p></h3>\n",
    "<p><i><b>Ans.</i></b></p>\n",
    "Returning a value allow us to store the result(variable/object) and perform operations on that result which is not possible if we dont return.\n",
    "eg."
   ]
  },
  {
   "cell_type": "code",
   "execution_count": 1,
   "id": "bea441b2",
   "metadata": {},
   "outputs": [
    {
     "name": "stdout",
     "output_type": "stream",
     "text": [
      "False\n"
     ]
    },
    {
     "data": {
      "text/plain": [
       "NoneType"
      ]
     },
     "execution_count": 1,
     "metadata": {},
     "output_type": "execute_result"
    }
   ],
   "source": [
    "#no return vaue\n",
    "def is_even1(num):\n",
    "    if(num%2)==0:\n",
    "        print(True)\n",
    "    else:\n",
    "        print(False)\n",
    "\n",
    "test1 = is_even1(5)\n",
    "type(test1)"
   ]
  },
  {
   "cell_type": "code",
   "execution_count": 2,
   "id": "a4ad13b2",
   "metadata": {},
   "outputs": [
    {
     "name": "stdout",
     "output_type": "stream",
     "text": [
      "<class 'bool'>\n",
      "1\n"
     ]
    }
   ],
   "source": [
    "#return value\n",
    "def is_even2(num):\n",
    "    if(num%2)==0:\n",
    "        return True\n",
    "    else:\n",
    "        return False\n",
    "\n",
    "test2 = is_even2(5)\n",
    "print(type(test2))\n",
    "print(test2 + 1)"
   ]
  },
  {
   "cell_type": "markdown",
   "id": "034f29bc",
   "metadata": {},
   "source": [
    "<h3><p>8. If a function does not have a return statement, what is the return value of a call to that function?</p></h3>\n",
    "<p><i><b>Ans.</i></b></p>\n",
    "There is no return value of a call to that function, the return type of such function is NoneType"
   ]
  },
  {
   "cell_type": "markdown",
   "id": "c7781fc3",
   "metadata": {},
   "source": [
    "<h3><p>9. How do you make a function variable refer to the global variable?</p></h3>\n",
    "<p><i><b>Ans.</i></b></p>\n",
    "By using global keyword.\n",
    "eg."
   ]
  },
  {
   "cell_type": "code",
   "execution_count": 3,
   "id": "d8063a15",
   "metadata": {},
   "outputs": [
    {
     "name": "stdout",
     "output_type": "stream",
     "text": [
      "hello\n"
     ]
    }
   ],
   "source": [
    "def my_func():\n",
    "    global a\n",
    "    a = \"hello\"\n",
    "my_func()\n",
    "print(a)"
   ]
  },
  {
   "cell_type": "markdown",
   "id": "35a4ecc0",
   "metadata": {},
   "source": [
    "<h3><p>10. What is the data type of None?</p></h3>\n",
    "<p><i><b>Ans.</i></b></p>\n",
    "None itself is a datatype of class NoneType. It represents empty state"
   ]
  },
  {
   "cell_type": "code",
   "execution_count": 4,
   "id": "375e395e",
   "metadata": {},
   "outputs": [
    {
     "name": "stdout",
     "output_type": "stream",
     "text": [
      "None\n",
      "<class 'NoneType'>\n"
     ]
    }
   ],
   "source": [
    "x = None\n",
    "print(x)\n",
    "print(type(None))"
   ]
  }
 ],
 "metadata": {
  "kernelspec": {
   "display_name": "Python 3",
   "language": "python",
   "name": "python3"
  },
  "language_info": {
   "codemirror_mode": {
    "name": "ipython",
    "version": 3
   },
   "file_extension": ".py",
   "mimetype": "text/x-python",
   "name": "python",
   "nbconvert_exporter": "python",
   "pygments_lexer": "ipython3",
   "version": "3.8.8"
  }
 },
 "nbformat": 4,
 "nbformat_minor": 5
}
