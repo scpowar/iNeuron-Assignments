{
 "cells": [
  {
   "cell_type": "markdown",
   "metadata": {},
   "source": [
    "<b>1. What exactly is []?</b>\n",
    "<p><i><b>Ans.</i></b></p>\n",
    "list"
   ]
  },
  {
   "cell_type": "code",
   "execution_count": 1,
   "metadata": {},
   "outputs": [
    {
     "data": {
      "text/plain": [
       "list"
      ]
     },
     "execution_count": 1,
     "metadata": {},
     "output_type": "execute_result"
    }
   ],
   "source": [
    "type([])"
   ]
  },
  {
   "cell_type": "markdown",
   "metadata": {},
   "source": [
    "<b>2. In a list of values stored in a variable called spam, how would you assign the value 'hello' as the third value? (Assume [2, 4, 6, 8, 10] are in spam.)\n",
    "<p><i><b>Ans.</i></b></p>"
   ]
  },
  {
   "cell_type": "code",
   "execution_count": 3,
   "metadata": {},
   "outputs": [
    {
     "name": "stdout",
     "output_type": "stream",
     "text": [
      "[2, 4, 6, 'hello', 8, 10]\n"
     ]
    }
   ],
   "source": [
    "spam = [2, 4, 6, 8, 10]\n",
    "spam.insert(3,\"hello\")\n",
    "print(spam)"
   ]
  },
  {
   "cell_type": "markdown",
   "metadata": {},
   "source": [
    "### Let's pretend the spam includes the list ['a', 'b', 'c', 'd'] for the next three queries."
   ]
  },
  {
   "cell_type": "code",
   "execution_count": 4,
   "metadata": {},
   "outputs": [],
   "source": [
    "spam = ['a', 'b', 'c', 'd']"
   ]
  },
  {
   "cell_type": "markdown",
   "metadata": {},
   "source": [
    "<b>3. What is the value of spam[int(int('3' * 2) / 11)]?</b>\n",
    "<p><i><b>Ans.</i></b></p> \n",
    "<pre>\n",
    "'3' * 2 ==> '33'\n",
    "int('33') ==> 33\n",
    "33/11 ==> 3\n",
    "spam[3] ==> 'd'\n",
    "</pre>"
   ]
  },
  {
   "cell_type": "code",
   "execution_count": 5,
   "metadata": {},
   "outputs": [
    {
     "data": {
      "text/plain": [
       "'d'"
      ]
     },
     "execution_count": 5,
     "metadata": {},
     "output_type": "execute_result"
    }
   ],
   "source": [
    "spam[int(int('3' * 2) / 11)]"
   ]
  },
  {
   "cell_type": "markdown",
   "metadata": {},
   "source": [
    "<b>4. What is the value of spam[-1]?</b>\n",
    "<p><i><b>Ans.</i></b></p>\n",
    "<pre>'d'</pre>"
   ]
  },
  {
   "cell_type": "code",
   "execution_count": 6,
   "metadata": {},
   "outputs": [
    {
     "data": {
      "text/plain": [
       "'d'"
      ]
     },
     "execution_count": 6,
     "metadata": {},
     "output_type": "execute_result"
    }
   ],
   "source": [
    "spam[-1]"
   ]
  },
  {
   "cell_type": "markdown",
   "metadata": {},
   "source": [
    "<b>5. What is the value of spam[:2]?</b>\n",
    "<p><i><b>Ans.</i></b></p>\n",
    "<pre>['a','b']</pre>"
   ]
  },
  {
   "cell_type": "code",
   "execution_count": 7,
   "metadata": {},
   "outputs": [
    {
     "data": {
      "text/plain": [
       "['a', 'b']"
      ]
     },
     "execution_count": 7,
     "metadata": {},
     "output_type": "execute_result"
    }
   ],
   "source": [
    "spam[:2]"
   ]
  },
  {
   "cell_type": "markdown",
   "metadata": {},
   "source": [
    "### Let's pretend bacon has the list [3.14, 'cat', 11, 'cat', True] for the next three questions."
   ]
  },
  {
   "cell_type": "code",
   "execution_count": 9,
   "metadata": {},
   "outputs": [],
   "source": [
    "bacon =  [3.14, 'cat', 11, 'cat', True]"
   ]
  },
  {
   "cell_type": "markdown",
   "metadata": {},
   "source": [
    "<b>\n",
    "6. What is the value of bacon.index('cat')?\n",
    "</b>\n",
    "<p><i><b>Ans.</i></b></p> \n",
    "<pre>1</pre>"
   ]
  },
  {
   "cell_type": "code",
   "execution_count": 10,
   "metadata": {},
   "outputs": [
    {
     "data": {
      "text/plain": [
       "1"
      ]
     },
     "execution_count": 10,
     "metadata": {},
     "output_type": "execute_result"
    }
   ],
   "source": [
    "bacon.index('cat')"
   ]
  },
  {
   "cell_type": "markdown",
   "metadata": {},
   "source": [
    "<b>7. How does bacon.append(99) change the look of the list value in bacon?\n",
    "</b>\n",
    "<p><i><b>Ans.</i></b></p>\n",
    "<pre>[3.14, 'cat', 11, 'cat', True, 99]</pre>"
   ]
  },
  {
   "cell_type": "code",
   "execution_count": 11,
   "metadata": {},
   "outputs": [
    {
     "data": {
      "text/plain": [
       "[3.14, 'cat', 11, 'cat', True, 99]"
      ]
     },
     "execution_count": 11,
     "metadata": {},
     "output_type": "execute_result"
    }
   ],
   "source": [
    "bacon.append(99)\n",
    "bacon"
   ]
  },
  {
   "cell_type": "markdown",
   "metadata": {},
   "source": [
    "<b>8. How does bacon.remove('cat') change the look of the list in bacon?</b>\n",
    "<p><i><b>Ans.</i></b></p>\n",
    "<pre>[3.14, 11, 'cat', True, 99]</pre>"
   ]
  },
  {
   "cell_type": "code",
   "execution_count": 12,
   "metadata": {},
   "outputs": [
    {
     "data": {
      "text/plain": [
       "[3.14, 11, 'cat', True, 99]"
      ]
     },
     "execution_count": 12,
     "metadata": {},
     "output_type": "execute_result"
    }
   ],
   "source": [
    "bacon.remove('cat')\n",
    "bacon"
   ]
  },
  {
   "cell_type": "markdown",
   "metadata": {},
   "source": [
    "<b>9. What are the list concatenation and list replication operators?</b>\n",
    "<p><i><b>Ans.</i></b></p>\n",
    "<pre>+ is the list concatenation operator and * is replication operator\n",
    "eg.</pre>"
   ]
  },
  {
   "cell_type": "code",
   "execution_count": 13,
   "metadata": {},
   "outputs": [
    {
     "name": "stdout",
     "output_type": "stream",
     "text": [
      "List concatenation eg.:  ['a', 'b', 'c', 'hello']\n",
      "List replication eg.:  ['a', 'b', 'c', 'a', 'b', 'c', 'a', 'b', 'c']\n"
     ]
    }
   ],
   "source": [
    "print('List concatenation eg.: ',['a','b','c']+[\"hello\"])\n",
    "print('List replication eg.: ',['a','b','c']*3)"
   ]
  },
  {
   "cell_type": "markdown",
   "metadata": {},
   "source": [
    "<b>10. What is difference between the list methods append() and insert()?</b>\n",
    "<p><i><b>Ans.</i></b></p>\n",
    "<pre>\n",
    "append() => allows us to append element/object to the end of the list\n",
    "insert() => allows us to insert an elemnt/object at specific index in the list\n",
    "eg.\n",
    "</pre>"
   ]
  },
  {
   "cell_type": "code",
   "execution_count": 27,
   "metadata": {},
   "outputs": [
    {
     "name": "stdout",
     "output_type": "stream",
     "text": [
      "[0, 1, 2, 3, 4, 5, 6, 7, 8, 9]\n",
      "After append:  [0, 1, 2, 3, 4, 5, 6, 7, 8, 9, 100]\n",
      "After inserting 'a' at index 3:  [0, 1, 2, 'a', 3, 4, 5, 6, 7, 8, 9, 100]\n"
     ]
    }
   ],
   "source": [
    "mylist = [i for i in range(10)]\n",
    "print(mylist)\n",
    "\n",
    "mylist.append(100)\n",
    "print(\"After append: \", mylist)\n",
    "\n",
    "mylist.insert(3,'a')\n",
    "print(\"After inserting 'a' at index 3: \", mylist)"
   ]
  },
  {
   "cell_type": "markdown",
   "metadata": {},
   "source": [
    "<b>11. What are the two methods for removing items from a list?</b>\n",
    "<p><i><b>Ans.</i></b></p>\n",
    "<pre>Two methods for removing items from a list are => remove() and pop()</pre>"
   ]
  },
  {
   "cell_type": "code",
   "execution_count": 32,
   "metadata": {},
   "outputs": [
    {
     "name": "stdout",
     "output_type": "stream",
     "text": [
      "[1, 4, 9, 16, 25, 36, 49, 64, 81]\n",
      "After removing 25 ==>  [1, 4, 9, 16, 36, 49, 64, 81]\n",
      "After pop ==>  [1, 4, 9, 16, 36, 49, 64]\n",
      "After poping element at index 2 ==>  [1, 4, 16, 36, 49, 64]\n"
     ]
    }
   ],
   "source": [
    "mylist = [x**2 for x in range(1,10)]\n",
    "print(mylist)\n",
    "mylist.remove(25) #removes element 3 \n",
    "print('After removing 25 ==> ',mylist)\n",
    "mylist.pop() #pops last element in list by default\n",
    "print('After pop ==> ',mylist)\n",
    "mylist.pop(2)\n",
    "print('After poping element at index 2 ==> ',mylist)"
   ]
  },
  {
   "cell_type": "markdown",
   "metadata": {},
   "source": [
    "<b>12. Describe how list values and string values are identical.</b>\n",
    "<p><i><b>Ans.</i></b></p>\n",
    "<pre>list values and string values are identical in way that the individual elements or characters respectively can be accessed through indexes </pre>"
   ]
  },
  {
   "cell_type": "code",
   "execution_count": 34,
   "metadata": {},
   "outputs": [
    {
     "name": "stdout",
     "output_type": "stream",
     "text": [
      "67\n",
      "r\n"
     ]
    }
   ],
   "source": [
    "mylist = [1,3,67,8,9]\n",
    "print(mylist[2])\n",
    "\n",
    "mystr = \"shraddha\"\n",
    "print(mystr[2])\n"
   ]
  },
  {
   "cell_type": "markdown",
   "metadata": {},
   "source": [
    "<b>13. What's the difference between tuples and lists?</b>\n",
    "<p><i><b>Ans.</i></b></p>\n",
    "<pre>tuples are immutable. elements inside tuple cannot be changed. ()\n",
    "list is mutable. We can insert, append, remove, etc i.e. we can chnage it. []</pre>"
   ]
  },
  {
   "cell_type": "code",
   "execution_count": 39,
   "metadata": {},
   "outputs": [
    {
     "name": "stdout",
     "output_type": "stream",
     "text": [
      "List ==>  [1, 3, 67, 8, 9]\n",
      "67\n",
      "a\n",
      "Tuple ==>  (1, 3, 67, 8, 9)\n",
      "67\n"
     ]
    },
    {
     "ename": "TypeError",
     "evalue": "'tuple' object does not support item assignment",
     "output_type": "error",
     "traceback": [
      "\u001b[1;31m---------------------------------------------------------------------------\u001b[0m",
      "\u001b[1;31mTypeError\u001b[0m                                 Traceback (most recent call last)",
      "\u001b[1;32m<ipython-input-39-d6a1315e238b>\u001b[0m in \u001b[0;36m<module>\u001b[1;34m\u001b[0m\n\u001b[0;32m      8\u001b[0m \u001b[0mprint\u001b[0m\u001b[1;33m(\u001b[0m\u001b[1;34m'Tuple ==> '\u001b[0m\u001b[1;33m,\u001b[0m\u001b[0mmytup\u001b[0m\u001b[1;33m)\u001b[0m\u001b[1;33m\u001b[0m\u001b[1;33m\u001b[0m\u001b[0m\n\u001b[0;32m      9\u001b[0m \u001b[0mprint\u001b[0m\u001b[1;33m(\u001b[0m\u001b[0mmytup\u001b[0m\u001b[1;33m[\u001b[0m\u001b[1;36m2\u001b[0m\u001b[1;33m]\u001b[0m\u001b[1;33m)\u001b[0m\u001b[1;33m\u001b[0m\u001b[1;33m\u001b[0m\u001b[0m\n\u001b[1;32m---> 10\u001b[1;33m \u001b[0mmytup\u001b[0m\u001b[1;33m[\u001b[0m\u001b[1;36m2\u001b[0m\u001b[1;33m]\u001b[0m \u001b[1;33m=\u001b[0m \u001b[1;36m7\u001b[0m \u001b[1;31m#gives error\u001b[0m\u001b[1;33m\u001b[0m\u001b[1;33m\u001b[0m\u001b[0m\n\u001b[0m",
      "\u001b[1;31mTypeError\u001b[0m: 'tuple' object does not support item assignment"
     ]
    }
   ],
   "source": [
    "mylist = [1,3,67,8,9]\n",
    "print('List ==> ',mylist)\n",
    "print(mylist[2])\n",
    "mylist[2]='a'\n",
    "print(mylist[2])\n",
    "\n",
    "mytup = (1,3,67,8,9)\n",
    "print('Tuple ==> ',mytup)\n",
    "print(mytup[2])\n",
    "mytup[2] = 7 #gives error, bcoz tuple cannot be changed"
   ]
  },
  {
   "cell_type": "markdown",
   "metadata": {},
   "source": [
    "<b>14. How do you type a tuple value that only contains the integer 42?</b>\n",
    "<p><i><b>Ans.</i></b></p>"
   ]
  },
  {
   "cell_type": "code",
   "execution_count": 41,
   "metadata": {},
   "outputs": [
    {
     "name": "stdout",
     "output_type": "stream",
     "text": [
      "42\n"
     ]
    }
   ],
   "source": [
    "mytup = (42)\n",
    "print(mytup)"
   ]
  },
  {
   "cell_type": "markdown",
   "metadata": {},
   "source": [
    "<b>15. How do you get a list value's tuple form? How do you get a tuple value's list form?</b>\n",
    "<p><i><b>Ans.</i></b></p>"
   ]
  },
  {
   "cell_type": "code",
   "execution_count": 48,
   "metadata": {},
   "outputs": [
    {
     "name": "stdout",
     "output_type": "stream",
     "text": [
      "['a', 'b', 'c']  =>  ('a', 'b', 'c')\n",
      "(1, 3, 67, 8, 9)  =>  [1, 3, 67, 8, 9]\n"
     ]
    }
   ],
   "source": [
    "#list value's tuple form\n",
    "myls = ['a','b','c']\n",
    "tup = tuple(myls)\n",
    "print(myls,' => ',tup)\n",
    "\n",
    "#tuple value's list form\n",
    "mytup = (1,3,67,8,9)\n",
    "mylist = list(mytup)\n",
    "print(mytup,' => ',mylist)"
   ]
  },
  {
   "cell_type": "markdown",
   "metadata": {},
   "source": [
    "<b>16. Variables that \"contain\" list values are not necessarily lists themselves. Instead, what do they contain?</b>\n",
    "<p><i><b>Ans.</i></b></p>\n",
    "<pre>Variables contain refference to list values.\n",
    "eg.</pre>"
   ]
  },
  {
   "cell_type": "code",
   "execution_count": 50,
   "metadata": {},
   "outputs": [
    {
     "name": "stdout",
     "output_type": "stream",
     "text": [
      "['a', 'b', 'c', 'd']\n"
     ]
    }
   ],
   "source": [
    "#example:\n",
    "myls = ['a','b','c']\n",
    "eg = myls \n",
    "eg.append('d') \n",
    "print(myls)"
   ]
  },
  {
   "cell_type": "markdown",
   "metadata": {},
   "source": [
    "<b>17. How do you distinguish between copy.copy() and copy.deepcopy()?</b>\n",
    "<p><i><b>Ans.</i></b></p>\n",
    "<pre>\n",
    "copy.copy() ==> refference of the object is copied in the new object. Any change to the original object <b>will affect </b> the object created using copy()\n",
    "\n",
    "copy.deepcopy() ==> exact replica of the object is created.A seperate copy is created. Any change to the original object <b> will not affect</b> the object created using deepcopy()\n",
    "</pre>"
   ]
  },
  {
   "cell_type": "code",
   "execution_count": 63,
   "metadata": {},
   "outputs": [
    {
     "name": "stdout",
     "output_type": "stream",
     "text": [
      "mylist =  [1, 2, 3, '22', 4, 5, 6, 7, 8, 'hello']\n",
      "cc_list =  [1, 2, 3, 4, 5, 6, 7, 5]\n",
      "dc_list =  [1, 2, 3, 4, 5, 6, 7, 8, 9, 'rohit']\n"
     ]
    }
   ],
   "source": [
    "import copy\n",
    "mylist = [1, 2, 3, 4, 5, 6, 7, 8, 9]\n",
    "cc_list = copy.copy(mylist)\n",
    "dc_list = copy.deepcopy(mylist)\n",
    "\n",
    "mylist.insert(3,\"shraddha\")\n",
    "mylist.pop()\n",
    "mylist.append(\"hello\")\n",
    "\n",
    "mylist[3] = '22'\n",
    "\n",
    "cc_list.remove(8)\n",
    "cc_list[7] = 5\n",
    "\n",
    "dc_list.append(\"rohit\")\n",
    "\n",
    "print('mylist = ',mylist)\n",
    "print('cc_list = ',cc_list)\n",
    "print('dc_list = ',dc_list)"
   ]
  }
 ],
 "metadata": {
  "kernelspec": {
   "display_name": "Python 3",
   "language": "python",
   "name": "python3"
  },
  "language_info": {
   "codemirror_mode": {
    "name": "ipython",
    "version": 3
   },
   "file_extension": ".py",
   "mimetype": "text/x-python",
   "name": "python",
   "nbconvert_exporter": "python",
   "pygments_lexer": "ipython3",
   "version": "3.8.3"
  }
 },
 "nbformat": 4,
 "nbformat_minor": 5
}
