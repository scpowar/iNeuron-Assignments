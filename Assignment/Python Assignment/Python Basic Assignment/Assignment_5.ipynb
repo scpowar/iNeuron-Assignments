{
 "cells": [
  {
   "cell_type": "markdown",
   "metadata": {},
   "source": [
    "<b>1. What does an empty dictionary's code look like?</b>\n",
    "<p><i><b>Ans.</i></b></p>\n",
    "<pre>{}</pre>"
   ]
  },
  {
   "cell_type": "code",
   "execution_count": 1,
   "metadata": {},
   "outputs": [
    {
     "data": {
      "text/plain": [
       "dict"
      ]
     },
     "execution_count": 1,
     "metadata": {},
     "output_type": "execute_result"
    }
   ],
   "source": [
    "type({})"
   ]
  },
  {
   "cell_type": "markdown",
   "metadata": {},
   "source": [
    "<b>2. What is the value of a dictionary value with the key 'foo' and the value 42?</b>\n",
    "<p><i><b>Ans.</i></b></p>\n",
    "<pre>value = 42</pre>"
   ]
  },
  {
   "cell_type": "code",
   "execution_count": 4,
   "metadata": {},
   "outputs": [
    {
     "name": "stdout",
     "output_type": "stream",
     "text": [
      "value =  42\n"
     ]
    },
    {
     "data": {
      "text/plain": [
       "dict_values([42])"
      ]
     },
     "execution_count": 4,
     "metadata": {},
     "output_type": "execute_result"
    }
   ],
   "source": [
    "mydict = {'foo':42}\n",
    "print(\"value = \",mydict['foo'])\n",
    "mydict.values()"
   ]
  },
  {
   "cell_type": "markdown",
   "metadata": {},
   "source": [
    "<b>3. What is the most significant distinction between a dictionary and a list?</b>\n",
    "<p><i><b>Ans.</i></b></p>\n",
    "<pre>In dictionary we have data/objects in key-value pair; keys are immutable and unique, values are mutable. List is a sequence of data/objects. List is mutable and there can be duplicates.</pre>"
   ]
  },
  {
   "cell_type": "markdown",
   "metadata": {},
   "source": [
    "<b>4. What happens if you try to access spam['foo'] if spam is {'bar': 100}?</b>\n",
    "<p><i><b>Ans.</i></b></p>\n",
    "<pre>We get KeyError</pre>"
   ]
  },
  {
   "cell_type": "code",
   "execution_count": 5,
   "metadata": {},
   "outputs": [
    {
     "ename": "KeyError",
     "evalue": "'foo'",
     "output_type": "error",
     "traceback": [
      "\u001b[1;31m---------------------------------------------------------------------------\u001b[0m",
      "\u001b[1;31mKeyError\u001b[0m                                  Traceback (most recent call last)",
      "\u001b[1;32m<ipython-input-5-cea1cd791e68>\u001b[0m in \u001b[0;36m<module>\u001b[1;34m\u001b[0m\n\u001b[0;32m      1\u001b[0m \u001b[0mspam\u001b[0m \u001b[1;33m=\u001b[0m \u001b[1;33m{\u001b[0m\u001b[1;34m'bar'\u001b[0m\u001b[1;33m:\u001b[0m\u001b[1;36m100\u001b[0m\u001b[1;33m}\u001b[0m\u001b[1;33m\u001b[0m\u001b[1;33m\u001b[0m\u001b[0m\n\u001b[1;32m----> 2\u001b[1;33m \u001b[0mspam\u001b[0m\u001b[1;33m[\u001b[0m\u001b[1;34m'foo'\u001b[0m\u001b[1;33m]\u001b[0m\u001b[1;33m\u001b[0m\u001b[1;33m\u001b[0m\u001b[0m\n\u001b[0m",
      "\u001b[1;31mKeyError\u001b[0m: 'foo'"
     ]
    }
   ],
   "source": [
    "spam = {'bar':100}\n",
    "spam['foo']"
   ]
  },
  {
   "cell_type": "markdown",
   "metadata": {},
   "source": [
    "<b>5. If a dictionary is stored in spam, what is the difference between the expressions 'cat' in spam and 'cat' in spam.keys()?</b>\n",
    "<p><i><b>Ans.</i></b></p>\n",
    "<pre>expression 'cat' in spam doesnt tell us wheteher its key or value, it can be any. 'cat' in spam.keys() signifies that it is a KEY </pre>"
   ]
  },
  {
   "cell_type": "code",
   "execution_count": 6,
   "metadata": {},
   "outputs": [
    {
     "data": {
      "text/plain": [
       "dict_keys(['cat', 'foo'])"
      ]
     },
     "execution_count": 6,
     "metadata": {},
     "output_type": "execute_result"
    }
   ],
   "source": [
    "spam = {'cat':'tom', 'foo':'cat'} #cat is key and value both; \n",
    "spam.keys() #cat in spam.keys() signifies that its specificaly a key"
   ]
  },
  {
   "cell_type": "markdown",
   "metadata": {},
   "source": [
    "<b>6. If a dictionary is stored in spam, what is the difference between the expressions 'cat' in spam and 'cat' in spam.values()?</b>\n",
    "<p><i><b>Ans.</i></b></p>\n",
    "<pre>expression 'cat' in spam doesnt tell us wheteher its key or value, it can be any. 'cat' in spam.values() signifies that it is a value </pre>"
   ]
  },
  {
   "cell_type": "code",
   "execution_count": 17,
   "metadata": {},
   "outputs": [
    {
     "data": {
      "text/plain": [
       "dict_values(['tom', 'cat'])"
      ]
     },
     "execution_count": 17,
     "metadata": {},
     "output_type": "execute_result"
    }
   ],
   "source": [
    "spam = {'cat':'tom', 'foo':'cat'} #cat is key and value both; \n",
    "spam.values() #cat in spam.values() signifies that its specificaly a value"
   ]
  },
  {
   "cell_type": "markdown",
   "metadata": {},
   "source": [
    "<b>7. What is a shortcut for the following code?\n",
    "    <p>if 'color' not in spam:</p>\n",
    "    <p>spam['color'] = 'black'</p>\n",
    "</b>\n",
    "<p><i><b>Ans.</i></b></p>\n",
    "<pre></pre>"
   ]
  },
  {
   "cell_type": "code",
   "execution_count": 28,
   "metadata": {},
   "outputs": [
    {
     "name": "stdout",
     "output_type": "stream",
     "text": [
      "black\n",
      "black\n"
     ]
    }
   ],
   "source": [
    "spam['color'] = 'black' if 'color' not in spam else spam['color']\n",
    "print(spam['color'])\n",
    "spam['color'] = 'red' if 'color' not in spam else spam['color']\n",
    "print(spam['color'])"
   ]
  },
  {
   "cell_type": "markdown",
   "metadata": {},
   "source": [
    "<b>8. How do you \"pretty print\" dictionary values using which module and function?</b>\n",
    "<p><i><b>Ans.</i></b></p>\n",
    "<pre>One way is by importing pprint and using pprint() function</pre>"
   ]
  },
  {
   "cell_type": "code",
   "execution_count": 37,
   "metadata": {},
   "outputs": [
    {
     "name": "stdout",
     "output_type": "stream",
     "text": [
      "Using normal print function==>\n",
      " {'day': ['1/1/2012', '1/2/2017', '1/3/2017'], 'temp': [32, 35, 28], 'windspeed': [6, 7, 2], 'event': ['Rain', 'Sunny', 'Snow']}\n",
      "\n",
      "Using pprint==>\n",
      "{'day': ['1/1/2012', '1/2/2017', '1/3/2017'],\n",
      " 'event': ['Rain', 'Sunny', 'Snow'],\n",
      " 'temp': [32, 35, 28],\n",
      " 'windspeed': [6, 7, 2]}\n"
     ]
    }
   ],
   "source": [
    "import pprint\n",
    "\n",
    "weather_data = {\n",
    "    'day': ['1/1/2012','1/2/2017','1/3/2017'],\n",
    "    'temp':[32,35,28],\n",
    "    'windspeed':[6,7,2],\n",
    "    'event': ['Rain','Sunny','Snow']\n",
    "}\n",
    "\n",
    "print('Using normal print function==>\\n',weather_data)\n",
    "print('\\nUsing pprint==>')\n",
    "pprint.pprint(weather_data)"
   ]
  }
 ],
 "metadata": {
  "kernelspec": {
   "display_name": "Python 3",
   "language": "python",
   "name": "python3"
  },
  "language_info": {
   "codemirror_mode": {
    "name": "ipython",
    "version": 3
   },
   "file_extension": ".py",
   "mimetype": "text/x-python",
   "name": "python",
   "nbconvert_exporter": "python",
   "pygments_lexer": "ipython3",
   "version": "3.8.3"
  }
 },
 "nbformat": 4,
 "nbformat_minor": 5
}
