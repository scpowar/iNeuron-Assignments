{
 "cells": [
  {
   "cell_type": "markdown",
   "metadata": {},
   "source": [
    "<b>1. What are escape characters, and how do you use them?</b>\n",
    "<p><i><b>Ans.</i></b></p>\n",
    "<pre>Escape characters begin with (\\)backslash. Below are few eg. of escape characters: </pre>"
   ]
  },
  {
   "cell_type": "code",
   "execution_count": 3,
   "metadata": {},
   "outputs": [
    {
     "ename": "SyntaxError",
     "evalue": "invalid syntax (<ipython-input-3-eff02b36f3fb>, line 2)",
     "output_type": "error",
     "traceback": [
      "\u001b[1;36m  File \u001b[1;32m\"<ipython-input-3-eff02b36f3fb>\"\u001b[1;36m, line \u001b[1;32m2\u001b[0m\n\u001b[1;33m    print('Hey, what's up')\u001b[0m\n\u001b[1;37m                     ^\u001b[0m\n\u001b[1;31mSyntaxError\u001b[0m\u001b[1;31m:\u001b[0m invalid syntax\n"
     ]
    }
   ],
   "source": [
    "#below code gives error\n",
    "print('Hey, what's up') "
   ]
  },
  {
   "cell_type": "code",
   "execution_count": 4,
   "metadata": {},
   "outputs": [
    {
     "name": "stdout",
     "output_type": "stream",
     "text": [
      "Hey, what's up\n"
     ]
    }
   ],
   "source": [
    "#using escape charater\n",
    "print('Hey, what\\'s up')"
   ]
  },
  {
   "cell_type": "code",
   "execution_count": 6,
   "metadata": {},
   "outputs": [
    {
     "name": "stdout",
     "output_type": "stream",
     "text": [
      "Hi\n",
      "Hello\n",
      "How are you??\n"
     ]
    }
   ],
   "source": [
    "print('Hi\\nHello\\nHow are you??')#Multiline output using \\n => newline"
   ]
  },
  {
   "cell_type": "markdown",
   "metadata": {},
   "source": [
    "<b>2. What do the escape characters n and t stand for?</b>\n",
    "<p><i><b>Ans.</i></b></p>\n",
    "<pre>\\n => newline\n",
    "\\t => tab\n",
    "eg:</pre>"
   ]
  },
  {
   "cell_type": "code",
   "execution_count": 11,
   "metadata": {},
   "outputs": [
    {
     "name": "stdout",
     "output_type": "stream",
     "text": [
      "---Print Statement---\n",
      "Hi Hello How are you??\n",
      "\n",
      "---Print Statement using \\n---\n",
      "Hi\n",
      "Hello\n",
      "How are you??\n",
      "\n",
      "---Print Statement using \\t---\n",
      "Hi\tHello\tHow are you??\n"
     ]
    }
   ],
   "source": [
    "print(\"---Print Statement---\")\n",
    "print('Hi Hello How are you??')\n",
    "print(\"\\n---Print Statement using \\\\n---\")\n",
    "print('Hi\\nHello\\nHow are you??')#Multiline output using \\n => newline\n",
    "print(\"\\n---Print Statement using \\\\t---\")\n",
    "print('Hi\\tHello\\tHow are you??')#tabbed"
   ]
  },
  {
   "cell_type": "markdown",
   "metadata": {},
   "source": [
    "<b>3. What is the way to include backslash characters in a string?</b>\n",
    "<p><i><b>Ans.</i></b></p>\n",
    "<pre>To include backslash characters in a string use backslash in front of it (\\\\)\n",
    "eg.</pre>"
   ]
  },
  {
   "cell_type": "code",
   "execution_count": 13,
   "metadata": {},
   "outputs": [
    {
     "ename": "SyntaxError",
     "evalue": "(unicode error) 'unicodeescape' codec can't decode bytes in position 2-3: truncated \\UXXXXXXXX escape (<ipython-input-13-f7cc67d1ce0c>, line 1)",
     "output_type": "error",
     "traceback": [
      "\u001b[1;36m  File \u001b[1;32m\"<ipython-input-13-f7cc67d1ce0c>\"\u001b[1;36m, line \u001b[1;32m1\u001b[0m\n\u001b[1;33m    filename = \"C:\\Users\\Documents\\iNeuron\"\u001b[0m\n\u001b[1;37m               ^\u001b[0m\n\u001b[1;31mSyntaxError\u001b[0m\u001b[1;31m:\u001b[0m (unicode error) 'unicodeescape' codec can't decode bytes in position 2-3: truncated \\UXXXXXXXX escape\n"
     ]
    }
   ],
   "source": [
    "filename = \"C:\\Users\\Documents\\iNeuron\"\n",
    "print(filename)"
   ]
  },
  {
   "cell_type": "code",
   "execution_count": 14,
   "metadata": {},
   "outputs": [
    {
     "name": "stdout",
     "output_type": "stream",
     "text": [
      "C:\\Users\\Documents\\iNeuron\n"
     ]
    }
   ],
   "source": [
    "filename = \"C:\\\\Users\\\\Documents\\\\iNeuron\"\n",
    "print(filename)"
   ]
  },
  {
   "cell_type": "markdown",
   "metadata": {},
   "source": [
    "<b>4. The string \"Howl's Moving Castle\" is a correct value. Why isn't the single quote character in the word Howl's not escaped a problem?</b>\n",
    "<p><i><b>Ans.</i></b></p>\n",
    "<pre>the single quote character in the word Howl's not escaped a problem because its enclosed inside double quotes. \n",
    "If instead of double quotes it was enclosed in single quotes <b>'Howl's Moving Castle'</b> then it would have given us error.\n",
    "We could resolve it easily by using escape character eg. <b>'Howl\\'s Moving Castle'</b>\n",
    "</pre>"
   ]
  },
  {
   "cell_type": "code",
   "execution_count": 16,
   "metadata": {},
   "outputs": [
    {
     "name": "stdout",
     "output_type": "stream",
     "text": [
      "Howl's Moving Castle\n"
     ]
    }
   ],
   "source": [
    "print('Howl\\'s Moving Castle')"
   ]
  },
  {
   "cell_type": "markdown",
   "metadata": {},
   "source": [
    "<b>5. How do you write a string of newlines if you don't want to use the n character?</b>\n",
    "<p><i><b>Ans.</i></b></p>\n",
    "<pre>We can use individual print statements to write string of newlines as below</pre>"
   ]
  },
  {
   "cell_type": "code",
   "execution_count": 18,
   "metadata": {},
   "outputs": [
    {
     "name": "stdout",
     "output_type": "stream",
     "text": [
      "Hi\n",
      "Hello\n",
      "How are you??\n",
      "\n",
      "-------is same as--------\n",
      "\n",
      "Hi\n",
      "Hello\n",
      "How are you??\n"
     ]
    }
   ],
   "source": [
    "print('Hi\\nHello\\nHow are you??')\n",
    "\n",
    "#is same as\n",
    "print(\"\\n-------is same as--------\\n\")\n",
    "\n",
    "print('Hi')\n",
    "print('Hello')\n",
    "print('How are you??')"
   ]
  },
  {
   "cell_type": "markdown",
   "metadata": {},
   "source": [
    "<b>6. What are the values of the given expressions?\n",
    "<pre>\n",
    "'Hello, world!'[1]\n",
    "'Hello, world!'[0:5]\n",
    "'Hello, world!'[:5]\n",
    "'Hello, world!'[3:]\n",
    "</pre>\n",
    "</b>\n",
    "<p><i><b>Ans.</i></b></p>\n",
    "<pre>\n",
    "'Hello, world!'[1]   => e\n",
    "'Hello, world!'[0:5] => Hello\n",
    "'Hello, world!'[:5]  => Hello\n",
    "'Hello, world!'[3:]  => lo, world!</pre>"
   ]
  },
  {
   "cell_type": "code",
   "execution_count": 20,
   "metadata": {},
   "outputs": [
    {
     "name": "stdout",
     "output_type": "stream",
     "text": [
      "e\n",
      "Hello\n",
      "Hello\n",
      "lo, world!\n"
     ]
    }
   ],
   "source": [
    "print('Hello, world!'[1])\n",
    "print('Hello, world!'[0:5])\n",
    "print('Hello, world!'[:5])\n",
    "print('Hello, world!'[3:])"
   ]
  },
  {
   "cell_type": "markdown",
   "metadata": {},
   "source": [
    "<b>7. What are the values of the following expressions?\n",
    "<pre>\n",
    "'Hello'.upper()\n",
    "'Hello'.upper().isupper()\n",
    "'Hello'.upper().lower()\n",
    "</pre>\n",
    "</b>\n",
    "<p><i><b>Ans.</i></b></p>\n",
    "<pre>\n",
    "'Hello'.upper()           => HELLO\n",
    "'Hello'.upper().isupper() => True\n",
    "'Hello'.upper().lower()   => hello\n",
    "</pre>\n",
    "</pre>"
   ]
  },
  {
   "cell_type": "code",
   "execution_count": 23,
   "metadata": {},
   "outputs": [
    {
     "name": "stdout",
     "output_type": "stream",
     "text": [
      "HELLO\n",
      "True\n",
      "hello\n"
     ]
    }
   ],
   "source": [
    "print(f\"{'Hello'.upper()}\\n{'Hello'.upper().isupper()}\\n{'Hello'.upper().lower()}\")"
   ]
  },
  {
   "cell_type": "markdown",
   "metadata": {},
   "source": [
    "<b>8. What are the values of the following expressions?\n",
    "<pre>'Remember, remember, the fifth of July.'.split()\n",
    "'-'.join('There can only one.'.split())</pre>\n",
    "</b>\n",
    "<p><i><b>Ans.</i></b></p>\n",
    "<pre>\n",
    "'Remember, remember, the fifth of July.'.split() => <b> independent words and special characters seperated by (space) </b>\n",
    "['Remember,', 'remember,', 'the', 'fifth', 'of', 'July.']\n",
    "'-'.join('There can only one.'.split()) => <b>independent words and special characters seperated by (space); joined by \"-\"</b>\n",
    "'There-can-only-one.'\n",
    "</pre>"
   ]
  },
  {
   "cell_type": "code",
   "execution_count": 25,
   "metadata": {},
   "outputs": [
    {
     "data": {
      "text/plain": [
       "['Remember,', 'remember,', 'the', 'fifth', 'of', 'July.']"
      ]
     },
     "execution_count": 25,
     "metadata": {},
     "output_type": "execute_result"
    }
   ],
   "source": [
    "'Remember, remember, the fifth of July.'.split()"
   ]
  },
  {
   "cell_type": "code",
   "execution_count": 26,
   "metadata": {},
   "outputs": [
    {
     "data": {
      "text/plain": [
       "'There-can-only-one.'"
      ]
     },
     "execution_count": 26,
     "metadata": {},
     "output_type": "execute_result"
    }
   ],
   "source": [
    "'-'.join('There can only one.'.split())"
   ]
  },
  {
   "cell_type": "markdown",
   "metadata": {},
   "source": [
    "<b>9. What are the methods for right-justifying, left-justifying, and centering a string?</b>\n",
    "<p><i><b>Ans.</i></b></p>\n",
    "<pre>rjust(width, fillchar)\n",
    "ljust(width, fillchar)\n",
    "center(width, fillchar)\n",
    "</pre>"
   ]
  },
  {
   "cell_type": "code",
   "execution_count": 44,
   "metadata": {},
   "outputs": [
    {
     "name": "stdout",
     "output_type": "stream",
     "text": [
      "*********************************************Hello\n",
      "**********************Hello***********************\n",
      "Hello*********************************************\n"
     ]
    }
   ],
   "source": [
    "print(\"Hello\".rjust(50, '*')) \n",
    "print(\"Hello\".center(50, '*'))\n",
    "print(\"Hello\".ljust(50, '*'))"
   ]
  },
  {
   "cell_type": "markdown",
   "metadata": {},
   "source": [
    "<b>10. What is the best way to remove whitespace characters from the start or end?</b>\n",
    "<p><i><b>Ans.</i></b></p>\n",
    "<pre>strip()</pre>"
   ]
  },
  {
   "cell_type": "code",
   "execution_count": 40,
   "metadata": {},
   "outputs": [
    {
     "name": "stdout",
     "output_type": "stream",
     "text": [
      "   hello   \n",
      "hello\n"
     ]
    }
   ],
   "source": [
    "a = \"   hello   \"\n",
    "print(a)\n",
    "print(a.strip())\n"
   ]
  }
 ],
 "metadata": {
  "kernelspec": {
   "display_name": "Python 3",
   "language": "python",
   "name": "python3"
  },
  "language_info": {
   "codemirror_mode": {
    "name": "ipython",
    "version": 3
   },
   "file_extension": ".py",
   "mimetype": "text/x-python",
   "name": "python",
   "nbconvert_exporter": "python",
   "pygments_lexer": "ipython3",
   "version": "3.8.3"
  }
 },
 "nbformat": 4,
 "nbformat_minor": 4
}
