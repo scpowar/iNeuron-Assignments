{
 "cells": [
  {
   "cell_type": "markdown",
   "id": "ee65d595-fe2f-4681-9c83-b0ce2ebc05d1",
   "metadata": {},
   "source": [
    "<b>1.\tWrite a Python Program to Find the Factorial of a Number?"
   ]
  },
  {
   "cell_type": "code",
   "execution_count": 5,
   "id": "1d57d529-754c-4582-9487-3a3f8ebaa6dd",
   "metadata": {},
   "outputs": [
    {
     "name": "stdin",
     "output_type": "stream",
     "text": [
      "Enter num 5\n"
     ]
    },
    {
     "data": {
      "text/plain": [
       "120"
      ]
     },
     "execution_count": 5,
     "metadata": {},
     "output_type": "execute_result"
    }
   ],
   "source": [
    "def factorial(num):\n",
    "    if num == 1:\n",
    "        return 1\n",
    "    else:\n",
    "        return num * factorial(num-1)\n",
    "    \n",
    "num = int(input('Enter num:')) \n",
    "factorial(num)"
   ]
  },
  {
   "cell_type": "markdown",
   "id": "0f39bd74-e4b6-4ed9-9b66-49e5099b22bb",
   "metadata": {},
   "source": [
    "<b>2.\tWrite a Python Program to Display the multiplication Table?"
   ]
  },
  {
   "cell_type": "code",
   "execution_count": 6,
   "id": "1fdbc08f-b6a3-4df4-844a-4a8d3313a09b",
   "metadata": {},
   "outputs": [
    {
     "name": "stdin",
     "output_type": "stream",
     "text": [
      "Enter num: 2\n"
     ]
    },
    {
     "name": "stdout",
     "output_type": "stream",
     "text": [
      "2 x 1 = 2\n",
      "2 x 2 = 4\n",
      "2 x 3 = 6\n",
      "2 x 4 = 8\n",
      "2 x 5 = 10\n",
      "2 x 6 = 12\n",
      "2 x 7 = 14\n",
      "2 x 8 = 16\n",
      "2 x 9 = 18\n",
      "2 x 10 = 20\n"
     ]
    }
   ],
   "source": [
    "num = int(input('Enter num:')) \n",
    "for i in range(1,11):\n",
    "    print(f'{num} x {i} = {num*i}')"
   ]
  },
  {
   "cell_type": "markdown",
   "id": "bd9e6a9b-6790-495a-a9c1-77b131dec5de",
   "metadata": {},
   "source": [
    "<b>3.\tWrite a Python Program to Print the Fibonacci sequence?"
   ]
  },
  {
   "cell_type": "code",
   "execution_count": 11,
   "id": "cb3d6d97-b12e-4640-8485-3876c48ac96c",
   "metadata": {},
   "outputs": [
    {
     "name": "stdin",
     "output_type": "stream",
     "text": [
      "Enter num: 15\n"
     ]
    },
    {
     "data": {
      "text/plain": [
       "[0, 1, 1, 2, 3, 5, 8, 13, 21, 34, 55, 89, 144, 233, 377, 610]"
      ]
     },
     "execution_count": 11,
     "metadata": {},
     "output_type": "execute_result"
    }
   ],
   "source": [
    "#0, 1, 1 , 2, 3, 5, 8\n",
    "\n",
    "num = int(input('Enter num:')) \n",
    "fib = [0]\n",
    "for i in range(num):\n",
    "    if fib[i] == 0:\n",
    "        fib.append(1)\n",
    "    else:\n",
    "        fib.append(fib[i]+fib[i-1])\n",
    "fib"
   ]
  },
  {
   "cell_type": "markdown",
   "id": "82eb8a99-c94a-4f52-9003-219e24422f07",
   "metadata": {},
   "source": [
    "<b>4.\tWrite a Python Program to Check Armstrong Number?"
   ]
  },
  {
   "cell_type": "code",
   "execution_count": 16,
   "id": "c3fbdbf3-6758-48a8-a9c2-6e2b161583e3",
   "metadata": {},
   "outputs": [
    {
     "name": "stdin",
     "output_type": "stream",
     "text": [
      "Enter num: 153\n"
     ]
    },
    {
     "name": "stdout",
     "output_type": "stream",
     "text": [
      "153 is Armstrong Number\n"
     ]
    }
   ],
   "source": [
    "num = input('Enter num:')\n",
    "sum = 0\n",
    "for i in num:\n",
    "    sum += int(i)**3\n",
    "if sum == int(num):\n",
    "    print(f'{num} is Armstrong Number')\n",
    "else:\n",
    "    print(f'{num} is not Armstrong Number')"
   ]
  },
  {
   "cell_type": "markdown",
   "id": "85cf6549-86c7-4d25-ada6-69ba108ea154",
   "metadata": {},
   "source": [
    "<b>5.\tWrite a Python Program to Find Armstrong Number in an Interval?"
   ]
  },
  {
   "cell_type": "code",
   "execution_count": 22,
   "id": "f4006fac-f960-4751-b224-dba3f7369b62",
   "metadata": {},
   "outputs": [
    {
     "name": "stdin",
     "output_type": "stream",
     "text": [
      "Enter beginning of interval: 10\n",
      "Enter end of interval: 500\n"
     ]
    },
    {
     "name": "stdout",
     "output_type": "stream",
     "text": [
      "List of armstrong no in the interval 10 - 500 is \n",
      " [153, 370, 370, 371, 407]\n"
     ]
    }
   ],
   "source": [
    "bnum = int(input('Enter beginning of interval:'))\n",
    "enum = int(input('Enter end of interval:'))\n",
    "\n",
    "armstrong = []\n",
    "\n",
    "for num in range(bnum, enum+1):\n",
    "    sum = 0\n",
    "    for i in str(num):\n",
    "        sum += int(i)**3\n",
    "        if sum == num:\n",
    "            #print(f'{num} is Armstrong Number')\n",
    "            armstrong.append(num)\n",
    "print(f'List of armstrong no in the interval {bnum} - {enum} is \\n {armstrong}')"
   ]
  },
  {
   "cell_type": "markdown",
   "id": "59320fc3-71f7-4f9d-bf3e-521082e3e16a",
   "metadata": {},
   "source": [
    "<b>6.\tWrite a Python Program to Find the Sum of Natural Numbers?"
   ]
  },
  {
   "cell_type": "code",
   "execution_count": 13,
   "id": "b6b8180b-da70-451b-bb1c-3c1ea2c643b5",
   "metadata": {},
   "outputs": [
    {
     "name": "stdin",
     "output_type": "stream",
     "text": [
      "Enter num: 100\n"
     ]
    },
    {
     "name": "stdout",
     "output_type": "stream",
     "text": [
      "sum of natural no. between 1 and 100 is 5050\n"
     ]
    }
   ],
   "source": [
    "num = int(input('Enter num:')) \n",
    "sum = 0\n",
    "for i in range(1,num+1):\n",
    "    sum += i\n",
    "\n",
    "print(f'sum of natural no. between 1 and {num} is {sum}')"
   ]
  }
 ],
 "metadata": {
  "kernelspec": {
   "display_name": "Python 3",
   "language": "python",
   "name": "python3"
  },
  "language_info": {
   "codemirror_mode": {
    "name": "ipython",
    "version": 3
   },
   "file_extension": ".py",
   "mimetype": "text/x-python",
   "name": "python",
   "nbconvert_exporter": "python",
   "pygments_lexer": "ipython3",
   "version": "3.8.8"
  }
 },
 "nbformat": 4,
 "nbformat_minor": 5
}
