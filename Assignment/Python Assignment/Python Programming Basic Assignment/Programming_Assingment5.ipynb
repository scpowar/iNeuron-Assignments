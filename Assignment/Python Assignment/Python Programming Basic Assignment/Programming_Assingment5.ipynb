{
 "cells": [
  {
   "cell_type": "markdown",
   "id": "ee65d595-fe2f-4681-9c83-b0ce2ebc05d1",
   "metadata": {},
   "source": [
    "<b>1.\tWrite a Python Program to Find LCM?"
   ]
  },
  {
   "cell_type": "code",
   "execution_count": 1,
   "id": "05aec7f8-3571-4590-a9bb-ad8624bef566",
   "metadata": {},
   "outputs": [],
   "source": [
    "def greater_num(a,b):\n",
    "    if a>b:\n",
    "        return a\n",
    "    else: \n",
    "        return b"
   ]
  },
  {
   "cell_type": "code",
   "execution_count": 2,
   "id": "cbcaeaa9-bcd6-447d-b47d-3e3f402920be",
   "metadata": {},
   "outputs": [],
   "source": [
    "def prime_num(num):\n",
    "    flag = True\n",
    "    #num = int(input('enter num:'))\n",
    "    for i in range(2,num):\n",
    "        if(num%i==0):\n",
    "            q = int(num/i)\n",
    "            d = i\n",
    "            flag = False\n",
    "            break\n",
    "    return flag"
   ]
  },
  {
   "cell_type": "code",
   "execution_count": 20,
   "id": "3968f49c-45a7-4776-ad9b-41313f8d123b",
   "metadata": {},
   "outputs": [],
   "source": [
    "def common_divisor(a,b,greater):\n",
    "    d = 1\n",
    "    for i in range(2,f):\n",
    "        if(a%i==0 and b%i==0):\n",
    "            d = i\n",
    "    return d "
   ]
  },
  {
   "cell_type": "code",
   "execution_count": 21,
   "id": "0812110f-eb42-460a-bf54-f8e04b08fad5",
   "metadata": {},
   "outputs": [],
   "source": [
    "def divisor(a):\n",
    "    d = 1\n",
    "    for i in range(2,a):\n",
    "        if a%i==0:\n",
    "            d = i\n",
    "    return d         "
   ]
  },
  {
   "cell_type": "code",
   "execution_count": 19,
   "id": "a6909c36-6918-4d2d-be76-b03d9ac26d75",
   "metadata": {},
   "outputs": [
    {
     "name": "stdin",
     "output_type": "stream",
     "text": [
      "Enter n1: 36\n",
      "Enter n2: 72\n"
     ]
    },
    {
     "name": "stdout",
     "output_type": "stream",
     "text": [
      "lcm = 72 \n",
      "factors = [36, 2]\n"
     ]
    }
   ],
   "source": [
    "n1 = int(input('Enter n1:'))\n",
    "n2 = int(input('Enter n2:'))\n",
    "\n",
    "f = greater_num(n1,n2)\n",
    "\n",
    "factors = []\n",
    "lcm = 1\n",
    "\n",
    "test=True\n",
    "\n",
    "while test:\n",
    "    f = greater_num(n1,n2)\n",
    "    temp = common_divisor(n1,n2,f)\n",
    "    \n",
    "    if temp>1:\n",
    "        n1=int(n1/temp)\n",
    "        n2=int(n2/temp)\n",
    "        factors.append(temp)\n",
    "        continue\n",
    "    \n",
    "    elif n1!=1:\n",
    "        if prime_num(n1):\n",
    "            factors.append(n1)\n",
    "            n1=int(n1/n1)    \n",
    "        else:\n",
    "            d = divisor(n1)\n",
    "            if d>1:\n",
    "                n1=int(n1/d)\n",
    "                factors.append(d)\n",
    "            \n",
    "    elif n2!=1:\n",
    "        if prime_num(n2):\n",
    "            factors.append(n2)\n",
    "            n2=int(n2/n2)   \n",
    "        else:\n",
    "            d = divisor(n2)\n",
    "            if d>1:\n",
    "                n2=int(n2/d)\n",
    "                factors.append(d)\n",
    "                \n",
    "    if n1==1:\n",
    "        if n2==1:\n",
    "            test = False\n",
    "    \n",
    "        \n",
    "#factors\n",
    "\n",
    "\n",
    "for i in factors:\n",
    "    lcm = lcm * i\n",
    "    \n",
    "print(f'lcm = {lcm} \\nfactors = {factors}')\n"
   ]
  },
  {
   "cell_type": "markdown",
   "id": "0f39bd74-e4b6-4ed9-9b66-49e5099b22bb",
   "metadata": {},
   "source": [
    "<b>2.\tWrite a Python Program to Find HCF?"
   ]
  },
  {
   "cell_type": "code",
   "execution_count": 23,
   "id": "91860837-73b8-4b45-abac-7984a28381fb",
   "metadata": {},
   "outputs": [
    {
     "name": "stdin",
     "output_type": "stream",
     "text": [
      "Enter n1: 42\n",
      "Enter n2: 54\n"
     ]
    },
    {
     "name": "stdout",
     "output_type": "stream",
     "text": [
      "hcf = 6 \n",
      "factors = [6, 1]\n"
     ]
    }
   ],
   "source": [
    "n1 = int(input('Enter n1:'))\n",
    "n2 = int(input('Enter n2:'))\n",
    "\n",
    "f = greater_num(n1,n2)\n",
    "\n",
    "factors = []\n",
    "hcf = 1\n",
    "\n",
    "#test=True\n",
    "\n",
    "while True:\n",
    "    f = greater_num(n1,n2)\n",
    "    temp = common_divisor(n1,n2,f)\n",
    "    \n",
    "    factors.append(temp)\n",
    "    \n",
    "    if temp>1:\n",
    "        n1=int(n1/temp)\n",
    "        n2=int(n2/temp)\n",
    "        continue\n",
    "    else:\n",
    "        break\n",
    "    \n",
    "for i in factors:\n",
    "    hcf = hcf * i\n",
    "    \n",
    "print(f'hcf = {hcf} \\nfactors = {factors}')\n"
   ]
  },
  {
   "cell_type": "markdown",
   "id": "bd9e6a9b-6790-495a-a9c1-77b131dec5de",
   "metadata": {},
   "source": [
    "<b>3.\tWrite a Python Program to Convert Decimal to Binary, Octal and Hexadecimal?<b>"
   ]
  },
  {
   "cell_type": "code",
   "execution_count": 40,
   "id": "953fa30d-f5dd-4542-87a0-3d2715322298",
   "metadata": {},
   "outputs": [],
   "source": [
    "def convert(n,to):\n",
    "    res = []\n",
    "    \n",
    "    while to<=n:\n",
    "        temp = n%to\n",
    "        res.append(temp)\n",
    "        n = int((n-temp)/to)\n",
    "    res.append(n)\n",
    "    \n",
    "    res.reverse()\n",
    "    \n",
    "    if to == 16:\n",
    "        for i in res:\n",
    "            if i>9:\n",
    "                if i == 10:\n",
    "                    i = 'A'\n",
    "                elif i ==11:\n",
    "                    i = 'B'\n",
    "                elif i ==12:\n",
    "                    i = 'C'\n",
    "                elif i ==13:\n",
    "                    i = 'D'\n",
    "                else:\n",
    "                    i = 'F'    \n",
    "    return res "
   ]
  },
  {
   "cell_type": "code",
   "execution_count": 41,
   "id": "7da59508-5cac-41fb-bccf-74cf0f62288a",
   "metadata": {},
   "outputs": [
    {
     "name": "stdin",
     "output_type": "stream",
     "text": [
      "enter num: 17\n"
     ]
    },
    {
     "name": "stdout",
     "output_type": "stream",
     "text": [
      "binary_num:[1, 0, 0, 0, 1] \n",
      "octal_num:[2, 1] \n",
      "hexadecimal_num:[1, 1]\n"
     ]
    }
   ],
   "source": [
    "n = int(input('enter num:'))\n",
    "binary_num = convert(n,2)\n",
    "octal_num = convert(n,8)\n",
    "hexadecimal_num = convert(n,16)\n",
    "print(f'binary_num:{binary_num} \\noctal_num:{octal_num} \\nhexadecimal_num:{hexadecimal_num}')"
   ]
  },
  {
   "cell_type": "markdown",
   "id": "82eb8a99-c94a-4f52-9003-219e24422f07",
   "metadata": {},
   "source": [
    "<b>4.\tWrite a Python Program To Find ASCII value of a character?"
   ]
  },
  {
   "cell_type": "code",
   "execution_count": 45,
   "id": "ed8ebc7c-aebd-4f63-84b5-47daf580a3b7",
   "metadata": {},
   "outputs": [
    {
     "name": "stdin",
     "output_type": "stream",
     "text": [
      "Enter any character to find its ascii value:  A\n"
     ]
    },
    {
     "name": "stdout",
     "output_type": "stream",
     "text": [
      "The ascii value of A is 65\n"
     ]
    }
   ],
   "source": [
    "a = input(\"Enter any character to find its ascii value: \")\n",
    "print('The ascii value of',a,'is',ord(a))"
   ]
  },
  {
   "cell_type": "markdown",
   "id": "85cf6549-86c7-4d25-ada6-69ba108ea154",
   "metadata": {},
   "source": [
    "<b>5.\tWrite a Python Program to Make a Simple Calculator with 4 basic mathematical operations?"
   ]
  },
  {
   "cell_type": "code",
   "execution_count": 3,
   "id": "ca2eba91-4059-42f2-8894-f231ea6d8dfe",
   "metadata": {},
   "outputs": [
    {
     "name": "stdout",
     "output_type": "stream",
     "text": [
      "-------------------- MENU -------------------- \n",
      "\t1.add (+)\n",
      "\t2.sub (-)\n",
      "\t3.div (\\)\n",
      "\t4.mul (*)\n",
      "\n"
     ]
    },
    {
     "name": "stdin",
     "output_type": "stream",
     "text": [
      "Choose operation no.:  4\n",
      "enter n1: 30\n",
      "enter n2: 24\n"
     ]
    },
    {
     "name": "stdout",
     "output_type": "stream",
     "text": [
      "Result = 720 \n",
      "-------------------- END --------------------\n"
     ]
    },
    {
     "name": "stdin",
     "output_type": "stream",
     "text": [
      "press y if you want to continue else press any other key Y\n"
     ]
    },
    {
     "name": "stdout",
     "output_type": "stream",
     "text": [
      "-------------------- MENU -------------------- \n",
      "\t1.add (+)\n",
      "\t2.sub (-)\n",
      "\t3.div (\\)\n",
      "\t4.mul (*)\n",
      "\n"
     ]
    },
    {
     "name": "stdin",
     "output_type": "stream",
     "text": [
      "Choose operation no.:  5\n",
      "enter n1: 90\n",
      "enter n2: 56\n"
     ]
    },
    {
     "name": "stdout",
     "output_type": "stream",
     "text": [
      "Result = unknown \n",
      "-------------------- END --------------------\n"
     ]
    },
    {
     "name": "stdin",
     "output_type": "stream",
     "text": [
      "press y if you want to continue else press any other key N\n"
     ]
    }
   ],
   "source": [
    "ch = 'y'\n",
    "while(ch == 'y'):\n",
    "    \n",
    "    print('-'*20,'MENU','-'*20,'\\n\\t1.add (+)\\n\\t2.sub (-)\\n\\t3.div (\\\\)\\n\\t4.mul (*)\\n')\n",
    "    op = int(input('Choose operation no.: '))\n",
    "    \n",
    "    n1 = int(input('enter n1:'))\n",
    "    n2 = int(input('enter n2:'))\n",
    "    \n",
    "    if op==1:\n",
    "        res = n1+n2\n",
    "    elif op==2:\n",
    "        res = n1-n2\n",
    "    elif op==3:\n",
    "        res = n1/n2\n",
    "    elif op==4:\n",
    "        res = n1*n2\n",
    "    else:\n",
    "        res = 'unknown'\n",
    "        \n",
    "    print(f'Result = {res} ')\n",
    "    print('-'*20,'END','-'*20)\n",
    "    \n",
    "    ch = input('press y if you want to continue else press any other key').lower()"
   ]
  }
 ],
 "metadata": {
  "kernelspec": {
   "display_name": "Python 3",
   "language": "python",
   "name": "python3"
  },
  "language_info": {
   "codemirror_mode": {
    "name": "ipython",
    "version": 3
   },
   "file_extension": ".py",
   "mimetype": "text/x-python",
   "name": "python",
   "nbconvert_exporter": "python",
   "pygments_lexer": "ipython3",
   "version": "3.8.8"
  }
 },
 "nbformat": 4,
 "nbformat_minor": 5
}
