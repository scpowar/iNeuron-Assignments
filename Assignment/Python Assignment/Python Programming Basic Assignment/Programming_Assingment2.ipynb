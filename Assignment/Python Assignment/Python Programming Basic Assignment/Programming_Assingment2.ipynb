{
 "cells": [
  {
   "cell_type": "markdown",
   "id": "5fde7c70-d4bf-4d44-9d04-b1355dcf5015",
   "metadata": {},
   "source": [
    "<b>1.\tWrite a Python program to convert kilometers to miles?"
   ]
  },
  {
   "cell_type": "code",
   "execution_count": 2,
   "id": "472136a9-5a49-4607-8b74-f60e381847ab",
   "metadata": {},
   "outputs": [
    {
     "name": "stdin",
     "output_type": "stream",
     "text": [
      "Enter km:  50\n"
     ]
    },
    {
     "name": "stdout",
     "output_type": "stream",
     "text": [
      "50 km equals 31.068550000000002 miles\n"
     ]
    }
   ],
   "source": [
    "km = int(input('Enter km: '))\n",
    "miles = 0.621371 * km\n",
    "print(f'{km} km equals {miles} miles')"
   ]
  },
  {
   "cell_type": "markdown",
   "id": "7ae8029b-59d4-4c60-9e91-f4003195b8c8",
   "metadata": {},
   "source": [
    "<b>2.\tWrite a Python program to convert Celsius to Fahrenheit?"
   ]
  },
  {
   "cell_type": "code",
   "execution_count": 3,
   "id": "8659af4a-e1e0-40b4-ab99-f9053f88d920",
   "metadata": {},
   "outputs": [
    {
     "name": "stdin",
     "output_type": "stream",
     "text": [
      "Enter Celsius:  50\n"
     ]
    },
    {
     "name": "stdout",
     "output_type": "stream",
     "text": [
      "50 celsius equals 122.0 fahrenheit\n"
     ]
    }
   ],
   "source": [
    "celsius = int(input('Enter Celsius: '))\n",
    "fahrenheit = (celsius * (9/5))+32\n",
    "print(f'{celsius} celsius equals {fahrenheit} fahrenheit')"
   ]
  },
  {
   "cell_type": "markdown",
   "id": "b688eec5-2d03-4518-8fc0-3dca6034e87f",
   "metadata": {},
   "source": [
    "<b>3.\tWrite a Python program to display calendar?"
   ]
  },
  {
   "cell_type": "code",
   "execution_count": 6,
   "id": "47c025f0-915b-40cd-8097-1afbe09221b8",
   "metadata": {},
   "outputs": [
    {
     "name": "stdout",
     "output_type": "stream",
     "text": [
      "                                  2021\n",
      "\n",
      "      January                   February                   March\n",
      "Mo Tu We Th Fr Sa Su      Mo Tu We Th Fr Sa Su      Mo Tu We Th Fr Sa Su\n",
      "             1  2  3       1  2  3  4  5  6  7       1  2  3  4  5  6  7\n",
      " 4  5  6  7  8  9 10       8  9 10 11 12 13 14       8  9 10 11 12 13 14\n",
      "11 12 13 14 15 16 17      15 16 17 18 19 20 21      15 16 17 18 19 20 21\n",
      "18 19 20 21 22 23 24      22 23 24 25 26 27 28      22 23 24 25 26 27 28\n",
      "25 26 27 28 29 30 31                                29 30 31\n",
      "\n",
      "       April                      May                       June\n",
      "Mo Tu We Th Fr Sa Su      Mo Tu We Th Fr Sa Su      Mo Tu We Th Fr Sa Su\n",
      "          1  2  3  4                      1  2          1  2  3  4  5  6\n",
      " 5  6  7  8  9 10 11       3  4  5  6  7  8  9       7  8  9 10 11 12 13\n",
      "12 13 14 15 16 17 18      10 11 12 13 14 15 16      14 15 16 17 18 19 20\n",
      "19 20 21 22 23 24 25      17 18 19 20 21 22 23      21 22 23 24 25 26 27\n",
      "26 27 28 29 30            24 25 26 27 28 29 30      28 29 30\n",
      "                          31\n",
      "\n",
      "        July                     August                  September\n",
      "Mo Tu We Th Fr Sa Su      Mo Tu We Th Fr Sa Su      Mo Tu We Th Fr Sa Su\n",
      "          1  2  3  4                         1             1  2  3  4  5\n",
      " 5  6  7  8  9 10 11       2  3  4  5  6  7  8       6  7  8  9 10 11 12\n",
      "12 13 14 15 16 17 18       9 10 11 12 13 14 15      13 14 15 16 17 18 19\n",
      "19 20 21 22 23 24 25      16 17 18 19 20 21 22      20 21 22 23 24 25 26\n",
      "26 27 28 29 30 31         23 24 25 26 27 28 29      27 28 29 30\n",
      "                          30 31\n",
      "\n",
      "      October                   November                  December\n",
      "Mo Tu We Th Fr Sa Su      Mo Tu We Th Fr Sa Su      Mo Tu We Th Fr Sa Su\n",
      "             1  2  3       1  2  3  4  5  6  7             1  2  3  4  5\n",
      " 4  5  6  7  8  9 10       8  9 10 11 12 13 14       6  7  8  9 10 11 12\n",
      "11 12 13 14 15 16 17      15 16 17 18 19 20 21      13 14 15 16 17 18 19\n",
      "18 19 20 21 22 23 24      22 23 24 25 26 27 28      20 21 22 23 24 25 26\n",
      "25 26 27 28 29 30 31      29 30                     27 28 29 30 31\n",
      "\n"
     ]
    }
   ],
   "source": [
    "import calendar\n",
    "a = calendar.calendar(2021)\n",
    "print(a)"
   ]
  },
  {
   "cell_type": "markdown",
   "id": "f8136502-6d2d-40de-a037-64b1a1e92845",
   "metadata": {},
   "source": [
    "<b>4.\tWrite a Python program to solve quadratic equation?"
   ]
  },
  {
   "cell_type": "code",
   "execution_count": 9,
   "id": "7456b179-cb07-4438-94ac-b3942daa2a98",
   "metadata": {},
   "outputs": [
    {
     "name": "stdin",
     "output_type": "stream",
     "text": [
      "Enter a:  1\n",
      "Enter b:  5\n",
      "Enter c:  6\n"
     ]
    },
    {
     "name": "stdout",
     "output_type": "stream",
     "text": [
      "Your quadratic eq is: \t 1x^2 + 5x + c = 0\n",
      "x1 = -2.0 \n",
      "x2 = -3.0\n"
     ]
    }
   ],
   "source": [
    "#ax^2 + bx + c = 0\n",
    "\n",
    "import math\n",
    "\n",
    "a = int(input('Enter a: '))\n",
    "b = int(input('Enter b: '))\n",
    "c = int(input('Enter c: '))\n",
    "print(f'Your quadratic eq is: \\t {a}x^2 + {b}x + c = 0')\n",
    "\n",
    "x1 = (-b + math.sqrt((b**2)-(4*a*c)))/(2*a)\n",
    "x2 = (-b - math.sqrt((b**2)-(4*a*c)))/(2*a)\n",
    "\n",
    "print(f'x1 = {x1} \\nx2 = {x2}')"
   ]
  },
  {
   "cell_type": "markdown",
   "id": "9ecfe7b2-9f4f-44c4-8e03-b7b4f6500c3a",
   "metadata": {},
   "source": [
    "<b>5.\tWrite a Python program to swap two variables without temp variable?"
   ]
  },
  {
   "cell_type": "code",
   "execution_count": 7,
   "id": "6b7a1a56-30b9-4a6a-a4b2-9f556eb26bb2",
   "metadata": {},
   "outputs": [
    {
     "name": "stdout",
     "output_type": "stream",
     "text": [
      "a = 5 and b = 6\n",
      "a = 6 and b = 5\n"
     ]
    }
   ],
   "source": [
    "a = 5\n",
    "b = 6\n",
    "\n",
    "print(f'a = {a} and b = {b}')\n",
    "\n",
    "a, b = b, a\n",
    "\n",
    "print(f'a = {a} and b = {b}')"
   ]
  }
 ],
 "metadata": {
  "kernelspec": {
   "display_name": "Python 3",
   "language": "python",
   "name": "python3"
  },
  "language_info": {
   "codemirror_mode": {
    "name": "ipython",
    "version": 3
   },
   "file_extension": ".py",
   "mimetype": "text/x-python",
   "name": "python",
   "nbconvert_exporter": "python",
   "pygments_lexer": "ipython3",
   "version": "3.8.8"
  }
 },
 "nbformat": 4,
 "nbformat_minor": 5
}
